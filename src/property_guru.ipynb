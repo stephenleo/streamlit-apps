{
 "cells": [
  {
   "cell_type": "code",
   "execution_count": 1,
   "metadata": {},
   "outputs": [],
   "source": [
    "# pandas_gbq\n",
    "from bs4 import BeautifulSoup\n",
    "import pandas as pd\n",
    "from datetime import datetime\n",
    "from time import sleep\n",
    "from tqdm import tqdm\n",
    "from locale import atof, setlocale, LC_NUMERIC\n",
    "setlocale(LC_NUMERIC, '')\n",
    "\n",
    "import undetected_chromedriver as uc\n",
    "driver = uc.Chrome(use_subprocess=True)\n",
    "\n",
    "base_url = \"https://www.propertyguru.com.sg\"\n",
    "url = \"/property-for-sale?market=residential&beds[]=3&listing_type=sale&property_type=H&mintop=2000&MRT_STATIONS[]=NE9&MRT_STATIONS[]=DT12&MRT_STATIONS[]=NE7&MRT_STATIONS[]=NE8&freetext=NE9+Boon+Keng+MRT,+DT12/NE7+Little+India+MRT,+NE8+Farrer+Park+MRT&search=true\""
   ]
  },
  {
   "cell_type": "code",
   "execution_count": 2,
   "metadata": {},
   "outputs": [],
   "source": [
    "data = {\n",
    "    \"id\": [], \"title\": [], \"href\": [], \"hero_img\": [], \n",
    "    \"address\": [], \"price\": [], \"floor_area_sqft\": [], \"psf\": []\n",
    "}"
   ]
  },
  {
   "cell_type": "code",
   "execution_count": 3,
   "metadata": {},
   "outputs": [
    {
     "name": "stderr",
     "output_type": "stream",
     "text": [
      "5it [01:16, 15.38s/it]\n"
     ]
    }
   ],
   "source": [
    "def generator(url):\n",
    "    while url:\n",
    "        driver.get(f\"{base_url}{url}\")\n",
    "\n",
    "        html = driver.page_source\n",
    "        html_soup = BeautifulSoup(html, 'html.parser')\n",
    "\n",
    "        listings = html_soup.find_all(\"div\", class_=\"listing-card\")\n",
    "\n",
    "        for listing in listings:\n",
    "            nav_link = listing.find_all(\"a\", class_=\"nav-link\")\n",
    "            data[\"id\"].append(int(nav_link[-1].get(\"data-listing-id\", \"\")))\n",
    "            data[\"title\"].append(nav_link[-3].text)\n",
    "            data[\"href\"].append(nav_link[-3][\"href\"])\n",
    "            data[\"hero_img\"].append(nav_link[-2].img[\"content\"] if nav_link[-2].img else \"\")\n",
    "\n",
    "            data[\"address\"].append(listing.find_all(\"span\", itemprop=\"streetAddress\")[0].text)\n",
    "            data[\"price\"].append(atof(listing.find_all(\"span\", class_=\"price\")[0].text))\n",
    "            data[\"floor_area_sqft\"].append(atof(listing.find_all(\"li\", class_=\"listing-floorarea\")[0].text.split()[0]))\n",
    "            data[\"psf\"].append(atof(listing.find_all(\"li\", class_=\"listing-floorarea\")[1].text.split(u\"\\xa0\")[1]))\n",
    "\n",
    "        next_button = html_soup.find_all(\"li\", class_=\"pagination-next\")[0].a\n",
    "        url = next_button[\"href\"] if next_button else \"\"\n",
    "        sleep(10)\n",
    "            \n",
    "        yield\n",
    "        \n",
    "for _ in tqdm(generator(url)): pass"
   ]
  },
  {
   "cell_type": "code",
   "execution_count": 4,
   "metadata": {},
   "outputs": [
    {
     "name": "stderr",
     "output_type": "stream",
     "text": [
      "100%|██████████| 1/1 [00:00<00:00, 6364.65it/s]"
     ]
    },
    {
     "name": "stdout",
     "output_type": "stream",
     "text": [
      "(86, 9)\n"
     ]
    },
    {
     "name": "stderr",
     "output_type": "stream",
     "text": [
      "\n"
     ]
    },
    {
     "data": {
      "text/html": [
       "<div>\n",
       "<style scoped>\n",
       "    .dataframe tbody tr th:only-of-type {\n",
       "        vertical-align: middle;\n",
       "    }\n",
       "\n",
       "    .dataframe tbody tr th {\n",
       "        vertical-align: top;\n",
       "    }\n",
       "\n",
       "    .dataframe thead th {\n",
       "        text-align: right;\n",
       "    }\n",
       "</style>\n",
       "<table border=\"1\" class=\"dataframe\">\n",
       "  <thead>\n",
       "    <tr style=\"text-align: right;\">\n",
       "      <th></th>\n",
       "      <th>id</th>\n",
       "      <th>title</th>\n",
       "      <th>href</th>\n",
       "      <th>hero_img</th>\n",
       "      <th>address</th>\n",
       "      <th>price</th>\n",
       "      <th>floor_area_sqft</th>\n",
       "      <th>psf</th>\n",
       "      <th>date</th>\n",
       "    </tr>\n",
       "  </thead>\n",
       "  <tbody>\n",
       "    <tr>\n",
       "      <th>0</th>\n",
       "      <td>24231631</td>\n",
       "      <td>10B Bendemeer Light</td>\n",
       "      <td>https://www.propertyguru.com.sg/listing/hdb-fo...</td>\n",
       "      <td>https://sg2-cdn.pgimgs.com/agent/383688/APHO.1...</td>\n",
       "      <td>10B Bendemeer Road</td>\n",
       "      <td>1050000.0</td>\n",
       "      <td>1001.0</td>\n",
       "      <td>1048.95</td>\n",
       "      <td>2022-11-20 15:11:30.966560</td>\n",
       "    </tr>\n",
       "    <tr>\n",
       "      <th>1</th>\n",
       "      <td>24229141</td>\n",
       "      <td>10B Bendemeer Light</td>\n",
       "      <td>https://www.propertyguru.com.sg/listing/hdb-fo...</td>\n",
       "      <td>https://sg2-cdn.pgimgs.com/agent/10723581/APHO...</td>\n",
       "      <td>10B Bendemeer Road</td>\n",
       "      <td>1050000.0</td>\n",
       "      <td>1001.0</td>\n",
       "      <td>1048.95</td>\n",
       "      <td>2022-11-20 15:11:30.966560</td>\n",
       "    </tr>\n",
       "    <tr>\n",
       "      <th>2</th>\n",
       "      <td>24229139</td>\n",
       "      <td>10B Bendemeer Light</td>\n",
       "      <td>https://www.propertyguru.com.sg/listing/hdb-fo...</td>\n",
       "      <td>https://sg2-cdn.pgimgs.com/agent/11118124/APHO...</td>\n",
       "      <td>10B Bendemeer Road</td>\n",
       "      <td>1050000.0</td>\n",
       "      <td>1001.0</td>\n",
       "      <td>1048.95</td>\n",
       "      <td>2022-11-20 15:11:30.966560</td>\n",
       "    </tr>\n",
       "    <tr>\n",
       "      <th>3</th>\n",
       "      <td>24228967</td>\n",
       "      <td>10B Bendemeer Light</td>\n",
       "      <td>https://www.propertyguru.com.sg/listing/hdb-fo...</td>\n",
       "      <td>https://sg2-cdn.pgimgs.com/agent/11616149/APHO...</td>\n",
       "      <td>10B Bendemeer Road</td>\n",
       "      <td>1050000.0</td>\n",
       "      <td>1001.0</td>\n",
       "      <td>1048.95</td>\n",
       "      <td>2022-11-20 15:11:30.966560</td>\n",
       "    </tr>\n",
       "    <tr>\n",
       "      <th>4</th>\n",
       "      <td>24229279</td>\n",
       "      <td>10B Bendemeer Light</td>\n",
       "      <td>https://www.propertyguru.com.sg/listing/hdb-fo...</td>\n",
       "      <td>https://sg1-cdn.pgimgs.com/agent/14278118/APHO...</td>\n",
       "      <td>10B Bendemeer Road</td>\n",
       "      <td>1050000.0</td>\n",
       "      <td>1001.0</td>\n",
       "      <td>1048.95</td>\n",
       "      <td>2022-11-20 15:11:30.966560</td>\n",
       "    </tr>\n",
       "  </tbody>\n",
       "</table>\n",
       "</div>"
      ],
      "text/plain": [
       "         id                title  \\\n",
       "0  24231631  10B Bendemeer Light   \n",
       "1  24229141  10B Bendemeer Light   \n",
       "2  24229139  10B Bendemeer Light   \n",
       "3  24228967  10B Bendemeer Light   \n",
       "4  24229279  10B Bendemeer Light   \n",
       "\n",
       "                                                href  \\\n",
       "0  https://www.propertyguru.com.sg/listing/hdb-fo...   \n",
       "1  https://www.propertyguru.com.sg/listing/hdb-fo...   \n",
       "2  https://www.propertyguru.com.sg/listing/hdb-fo...   \n",
       "3  https://www.propertyguru.com.sg/listing/hdb-fo...   \n",
       "4  https://www.propertyguru.com.sg/listing/hdb-fo...   \n",
       "\n",
       "                                            hero_img             address  \\\n",
       "0  https://sg2-cdn.pgimgs.com/agent/383688/APHO.1...  10B Bendemeer Road   \n",
       "1  https://sg2-cdn.pgimgs.com/agent/10723581/APHO...  10B Bendemeer Road   \n",
       "2  https://sg2-cdn.pgimgs.com/agent/11118124/APHO...  10B Bendemeer Road   \n",
       "3  https://sg2-cdn.pgimgs.com/agent/11616149/APHO...  10B Bendemeer Road   \n",
       "4  https://sg1-cdn.pgimgs.com/agent/14278118/APHO...  10B Bendemeer Road   \n",
       "\n",
       "       price  floor_area_sqft      psf                       date  \n",
       "0  1050000.0           1001.0  1048.95 2022-11-20 15:11:30.966560  \n",
       "1  1050000.0           1001.0  1048.95 2022-11-20 15:11:30.966560  \n",
       "2  1050000.0           1001.0  1048.95 2022-11-20 15:11:30.966560  \n",
       "3  1050000.0           1001.0  1048.95 2022-11-20 15:11:30.966560  \n",
       "4  1050000.0           1001.0  1048.95 2022-11-20 15:11:30.966560  "
      ]
     },
     "execution_count": 4,
     "metadata": {},
     "output_type": "execute_result"
    }
   ],
   "source": [
    "df = pd.DataFrame(data)\n",
    "df[\"date\"] = datetime.today()\n",
    "\n",
    "df.to_gbq(\n",
    "    destination_table = \"leo-gcp-sanbox.hdb_prices.NE789\",\n",
    "    if_exists = \"append\",\n",
    "    progress_bar = True\n",
    ")\n",
    "\n",
    "print(df.shape)\n",
    "df.head()"
   ]
  },
  {
   "cell_type": "code",
   "execution_count": null,
   "metadata": {},
   "outputs": [],
   "source": []
  }
 ],
 "metadata": {
  "kernelspec": {
   "display_name": "Python 3.9.13 ('pguru')",
   "language": "python",
   "name": "python3"
  },
  "language_info": {
   "codemirror_mode": {
    "name": "ipython",
    "version": 3
   },
   "file_extension": ".py",
   "mimetype": "text/x-python",
   "name": "python",
   "nbconvert_exporter": "python",
   "pygments_lexer": "ipython3",
   "version": "3.9.13"
  },
  "orig_nbformat": 4,
  "vscode": {
   "interpreter": {
    "hash": "0cb6c6101462233385cc0856d62a0151909346939f04bfc62ca5cf437c06a17d"
   }
  }
 },
 "nbformat": 4,
 "nbformat_minor": 2
}
